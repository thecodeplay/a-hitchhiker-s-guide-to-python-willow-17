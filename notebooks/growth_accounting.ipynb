{
 "cells": [
  {
   "cell_type": "markdown",
   "metadata": {},
   "source": [
    "# (Naive) Growth accounting\n",
    "\n",
    "This is an example to show you how one can use existing library to access data easily. The growth accounting framework used is naive and the results should be taken with a pinch of salt."
   ]
  },
  {
   "cell_type": "code",
   "execution_count": null,
   "metadata": {},
   "outputs": [],
   "source": [
    "import py4macro\n",
    "import pandas as pd\n",
    "import matplotlib.pyplot as plt\n",
    "import numpy as np"
   ]
  },
  {
   "cell_type": "markdown",
   "metadata": {},
   "source": [
    "This example relies heavily on `py4macro` which is itself an excellent resource to learn `Python`: https://py4macro.github.io"
   ]
  },
  {
   "cell_type": "code",
   "execution_count": null,
   "metadata": {},
   "outputs": [],
   "source": [
    "help(py4macro.data)"
   ]
  },
  {
   "cell_type": "markdown",
   "metadata": {},
   "source": [
    "The data we need can be found by Penn World Table. Let's look at the data."
   ]
  },
  {
   "cell_type": "code",
   "execution_count": null,
   "metadata": {},
   "outputs": [],
   "source": [
    "py4macro.data('pwt',description=1)"
   ]
  },
  {
   "cell_type": "markdown",
   "metadata": {},
   "source": [
    "Retrieve the data."
   ]
  },
  {
   "cell_type": "code",
   "execution_count": null,
   "metadata": {},
   "outputs": [],
   "source": [
    "df = py4macro.data('pwt'); print(type(df))"
   ]
  },
  {
   "cell_type": "markdown",
   "metadata": {},
   "source": [
    "A quick glance of the data."
   ]
  },
  {
   "cell_type": "code",
   "execution_count": null,
   "metadata": {},
   "outputs": [],
   "source": [
    "df.head()"
   ]
  },
  {
   "cell_type": "markdown",
   "metadata": {},
   "source": [
    "Print out all countries available"
   ]
  },
  {
   "cell_type": "code",
   "execution_count": null,
   "metadata": {},
   "outputs": [],
   "source": [
    "country_list = df.loc[:,'country'].unique()\n",
    "country_list"
   ]
  },
  {
   "cell_type": "code",
   "execution_count": null,
   "metadata": {},
   "outputs": [],
   "source": [
    "df.loc[:,'country'].nunique()"
   ]
  },
  {
   "cell_type": "markdown",
   "metadata": {},
   "source": [
    "Print out all years available"
   ]
  },
  {
   "cell_type": "code",
   "execution_count": null,
   "metadata": {},
   "outputs": [],
   "source": [
    "year_list = df.loc[:,'year'].unique()\n",
    "year_list"
   ]
  },
  {
   "cell_type": "markdown",
   "metadata": {},
   "source": [
    "Okay there are quite a few countries and years in the dataset. To make life easier, why not start with a small subset."
   ]
  },
  {
   "cell_type": "code",
   "execution_count": null,
   "metadata": {},
   "outputs": [],
   "source": [
    "# 1\n",
    "country_table = ['Japan', 'United Kingdom','United States', 'Norway',\n",
    "                'Mexico','Peru','India','China','Zimbabwe','Niger']\n",
    "\n",
    "# 2\n",
    "cond = (df['country'].isin(country_table)) & (df['year'].isin([2018, 2019]))\n",
    "\n",
    "# 3\n",
    "col = ['year', 'country','rgdpo', 'ck', 'labsh','emp']\n",
    "\n",
    "# 4\n",
    "table2019 = df.loc[cond,col].set_index('country').sort_values(['country', 'year'])"
   ]
  },
  {
   "cell_type": "code",
   "execution_count": null,
   "metadata": {},
   "outputs": [],
   "source": [
    "table2019"
   ]
  },
  {
   "cell_type": "markdown",
   "metadata": {},
   "source": [
    "We want to turn each `rgdpo`, `ck`, and `emp` into growth rates and we can write a for-loop to do it all in one go."
   ]
  },
  {
   "cell_type": "code",
   "execution_count": null,
   "metadata": {},
   "outputs": [],
   "source": [
    "variables = col[2:]\n",
    "for variable in variables:\n",
    "    table2019[f'{variable}_g'] = table2019.groupby('country')[variable].pct_change() * 100"
   ]
  },
  {
   "cell_type": "code",
   "execution_count": null,
   "metadata": {},
   "outputs": [],
   "source": [
    "# drop na will allow us to drop all 2018 observations\n",
    "table2019 = table2019.dropna()\n",
    "\n",
    "# calcuate the capital share as 1 - labour share\n",
    "table2019['alpha'] = 1 - table2019['labsh']\n",
    "\n",
    "# calcuate the growth of factors\n",
    "table2019['factors_growth'] = table2019['alpha'] * table2019['ck_g'] + table2019['labsh'] * table2019['emp_g']\n",
    "\n",
    "# the discrepancies will be taken as the Solow residuals\n",
    "table2019['solow_residual'] = table2019['rgdpo_g'] - table2019['factors_growth']\n",
    "\n",
    "# sorting the table according to real GDP growth\n",
    "table2019 = table2019.sort_values(['rgdpo_g'], ascending=False)\n",
    "table2019.rename(columns={'factors_growth': 'Factor growth', 'solow_residual': 'Solow Residuals'}, inplace=True)"
   ]
  },
  {
   "cell_type": "code",
   "execution_count": null,
   "metadata": {},
   "outputs": [],
   "source": [
    "# plot it\n",
    "table2019.iloc[:,[-1,-2]].plot(kind='bar', stacked=True)\n",
    "plt.title(\"Naive growth accounting\")\n",
    "plt.axhline(y=0, color='r', linestyle='--')\n",
    "\n",
    "plt.xlabel('Country', fontsize=12)\n",
    "plt.ylabel('Percentage change in 2019', fontsize=12)\n",
    "\n",
    "#plt.savefig(\"naive_growth_accounting.png\")"
   ]
  }
 ],
 "metadata": {
  "kernelspec": {
   "display_name": "Python 3",
   "language": "python",
   "name": "python3"
  },
  "language_info": {
   "codemirror_mode": {
    "name": "ipython",
    "version": 3
   },
   "file_extension": ".py",
   "mimetype": "text/x-python",
   "name": "python",
   "nbconvert_exporter": "python",
   "pygments_lexer": "ipython3",
   "version": "3.10.8"
  }
 },
 "nbformat": 4,
 "nbformat_minor": 2
}
