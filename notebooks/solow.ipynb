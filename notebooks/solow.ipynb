{
 "cells": [
  {
   "cell_type": "markdown",
   "metadata": {},
   "source": [
    "# Coding out the Solow Growth Model\n",
    "## A graphical analysis"
   ]
  },
  {
   "cell_type": "markdown",
   "metadata": {},
   "source": [
    "Below we import libraries that we need to use."
   ]
  },
  {
   "cell_type": "code",
   "execution_count": null,
   "metadata": {},
   "outputs": [],
   "source": [
    "import matplotlib.pyplot as plt\n",
    "import numpy as np\n",
    "import pandas as pd"
   ]
  },
  {
   "cell_type": "markdown",
   "metadata": {},
   "source": [
    "### Use case 1: use Python just as how you would use a calculator\n",
    "Let's replicate our homework results. Calculate the steady state:\n",
    "1. Let our production function be: $Y = F(K, L) = K^\\alpha + L^{1-\\alpha}$. \n",
    "2. Looking at the per capita version, we have $f(k) = k^\\alpha$.\n",
    "3. From our homework we know that the steady-state $k^*$ is given by: $$k^* = \\left(\\frac{s}{\\delta}\\right)^{\\frac{1}{1-\\alpha}}$$\n",
    "\n",
    "So let's make a calculator (function)."
   ]
  },
  {
   "cell_type": "code",
   "execution_count": null,
   "metadata": {},
   "outputs": [],
   "source": [
    "# define parameter values\n",
    "delta = 0.05\n",
    "alpha = 0.5\n",
    "\n",
    "# find steady states first\n",
    "def steady_state(s):\n",
    "    k_star = (s / delta)**(1/(1 - alpha))\n",
    "    return k_star\n",
    "\n",
    "# initiate our target saving rates\n",
    "s_list = [0.1, 0.5, 0.9]\n",
    "\n",
    "# a blank list to store data\n",
    "k_star_list = []\n",
    "\n",
    "for s in s_list:\n",
    "    k_star = steady_state(s)\n",
    "    y_star = k_star**alpha\n",
    "    print(rf\"When saving rate is {s}, k* is {k_star} and y* is {y_star}\")"
   ]
  },
  {
   "cell_type": "markdown",
   "metadata": {},
   "source": [
    "And if you recall, these were the numbers in homework 1."
   ]
  },
  {
   "cell_type": "markdown",
   "metadata": {},
   "source": [
    "### Use case 2: Use it to visulise dynamics\n",
    "\n",
    "#### Law of motion\n",
    "Recall that the law of motion of $k$ in discrete time is given by:\n",
    "$$k_{t+1} = sf(k_t) + (1 - \\delta) k_t$$"
   ]
  },
  {
   "cell_type": "code",
   "execution_count": null,
   "metadata": {},
   "outputs": [],
   "source": [
    "s = 0.3\n",
    "s1 = 0.5\n",
    "alpha = 0.3\n",
    "delta = 0.4\n",
    "\n",
    "kmin, kmax = 0, 2\n",
    "kgrid = np.linspace(kmin, kmax, 200)\n",
    "\n",
    "def lom(s=s, k=kgrid):\n",
    "    return s * k**alpha + (1 - delta) * k\n",
    "\n",
    "# create dataframe\n",
    "lom_values = lom()\n",
    "lom_values_2 = lom(s=s1)\n",
    "\n",
    "dic = {'x': kgrid, 'lom_values': lom_values,\n",
    "       'lom_values_2': lom_values_2, 'diagonal': kgrid}\n",
    "df = pd.DataFrame(dic)\n",
    "\n",
    "k_star = steady_state(s)\n",
    "k_star_2 = steady_state(s1)\n",
    "\n",
    "lb = r'$k_{t+1} = g(k_t) = sk_t^{\\alpha} + (1 - \\delta)k_t$'\n",
    "lb_2 = r'$k_{t+1} = g_1(k_t) = s_1k_t^{\\alpha} + (1 - \\delta)k_t$'\n",
    "\n",
    "# initiate plot object\n",
    "fig, ax = plt.subplots()\n",
    "\n",
    "# plot lines and mark steadt state\n",
    "ax.plot('x', 'lom_values', 'g-', data=df, lw=2, alpha=0.6, label=lb)\n",
    "ax.plot('x', 'lom_values_2', 'b-', data=df, lw=2, alpha=0.6, label=lb_2)\n",
    "ax.plot('x', 'diagonal', 'k-', data=df, lw=1,\n",
    "        alpha=0.7, label='45 Degree Line')\n",
    "ax.plot(k_star, k_star, 'go', ms=10, alpha=0.6)\n",
    "ax.plot(k_star_2, k_star_2, 'bo', ms=10, alpha=0.6)\n",
    "\n",
    "# annotate the chart\n",
    "annotation_args = dict(xytext=(-40, -60),\n",
    "                       textcoords='offset points',\n",
    "                       fontsize=12,\n",
    "                       arrowprops=dict(arrowstyle=\"->\"))\n",
    "\n",
    "ax.annotate(rf\"{r'$k^*_{old}=$'}{round(k_star,3)}\",\n",
    "            xy=(k_star, k_star), **annotation_args)\n",
    "\n",
    "ax.annotate(rf\"{r'$k^*_{new}=$'}{round(k_star_2,3)}\",\n",
    "            xy=(k_star_2, k_star_2), **annotation_args)\n",
    "\n",
    "ax.set_xlim(kmin, kmax)\n",
    "ax.set_ylim(kmin, kmax)\n",
    "ax.legend(loc='upper left', frameon=False, fontsize=12)\n",
    "\n",
    "ax.set_xlabel('$k_t$', fontsize=12)\n",
    "ax.set_ylabel('$k_{t+1}$', fontsize=12)\n",
    "\n",
    "plt.show()\n"
   ]
  },
  {
   "cell_type": "markdown",
   "metadata": {},
   "source": [
    "#### Trajectories\n",
    "\n",
    "We know that it doesn't matter where we start, we will converge to $k^*$. It is often hard to draw by hand the trajectories but it is fairly easy using Python."
   ]
  },
  {
   "cell_type": "code",
   "execution_count": null,
   "metadata": {},
   "outputs": [],
   "source": [
    "def plot_trajectory(k0, num_arrows=5):\n",
    "    \n",
    "    fig, ax = plt.subplots()\n",
    "    ax.set_xlim(kmin, kmax)\n",
    "    ax.set_ylim(kmin, kmax)\n",
    "\n",
    "    lom_values = lom()\n",
    "    \n",
    "    # formatting for arrows\n",
    "    hw = (kmax - kmin) * 0.01\n",
    "    hl = 2 * hw\n",
    "    arrow_args = dict(fc=\"k\", ec=\"k\", head_width=hw,\n",
    "                    length_includes_head=True, lw=1, alpha=0.6, head_length=hl)\n",
    "    lb = r'$k_{t+1} = g(k_t)$'\n",
    "\n",
    "    k_star = steady_state(s)\n",
    "    ax.plot(k_star, k_star, 'go', ms=10, alpha=0.6)\n",
    "\n",
    "    # plotting out LOM \n",
    "    ax.plot(kgrid, lom_values, 'g-', lw=2, alpha=0.6, label=lb)\n",
    "    ax.plot(kgrid, kgrid, 'k-', lw=1, alpha=0.7, label='45 Degree Line')\n",
    "    \n",
    "    k = k0\n",
    "    xticks = [kmin]\n",
    "    xtick_labels = [kmin]\n",
    "\n",
    "    for i in range(num_arrows): \n",
    "        if i == 0:\n",
    "            ax.arrow(k, 0.0, 0.0, lom(k=k), **arrow_args) # x, y, dx, dy \n",
    "        else:\n",
    "            ax.arrow(k, k, 0.0,lom(k=k) - k, **arrow_args)\n",
    "            ax.plot((k, k), (0, k), 'k', ls='dotted')\n",
    "        \n",
    "        ax.arrow(k, lom(k=k), lom(k=k) - k, 0, **arrow_args)\n",
    "\n",
    "        xticks.append(k)\n",
    "        xtick_labels.append(r'${}_{}$'.format(\"k\", str(i)))\n",
    "        \n",
    "        k = lom(k=k)\n",
    "        xticks.append(k)\n",
    "        xtick_labels.append(r'${}_{}$'.format(\"k\", str(i+1)))\n",
    "        ax.plot((k, k), (0, k), 'k', ls='dotted')\n",
    "\n",
    "    xticks.append(kmax)\n",
    "    xtick_labels.append(kmax)\n",
    "    ax.set_xticks(xticks)\n",
    "    ax.set_yticks(xticks)\n",
    "    ax.set_xticklabels(xtick_labels)\n",
    "    ax.set_yticklabels(xtick_labels)\n",
    "    ax.legend(loc='upper left', frameon=False, fontsize=12)\n",
    "    plt.title(rf\"{r'$k_0$ = '}{round(k0,3)}\")\n",
    "    plt.show()\n",
    "\n",
    "plot_trajectory(0.1)"
   ]
  },
  {
   "cell_type": "code",
   "execution_count": null,
   "metadata": {},
   "outputs": [],
   "source": [
    "plot_trajectory(1.5)"
   ]
  },
  {
   "cell_type": "markdown",
   "metadata": {},
   "source": [
    "#### Time path in the context of comparative static\n",
    "\n",
    "I claim that you can write some simple codes to simulate the time path of $k$ in response to a change in $s$."
   ]
  },
  {
   "cell_type": "code",
   "execution_count": null,
   "metadata": {},
   "outputs": [],
   "source": [
    "def solow_model(k0, s_old, s_new, threshold=50, T=300):\n",
    "    \n",
    "    k = k0\n",
    "    y = k0**alpha\n",
    "    k_dot =  lom(s=s_old, k=k) - k\n",
    "\n",
    "    s_list = [s_old]\n",
    "    k_list = [k]\n",
    "    y_list = [y]\n",
    "    k_dot_list = [k_dot]\n",
    "    \n",
    "    for i in range(T):\n",
    "        \n",
    "        if i < threshold:\n",
    "           \n",
    "           s = s_old\n",
    "        \n",
    "        else:\n",
    "            s = s_new\n",
    "            \n",
    "        k_dot = lom(s=s, k=k) - k\n",
    "        k = k + k_dot\n",
    "        y = k**alpha\n",
    "\n",
    "        s_list.append(s)\n",
    "        k_list.append(k)\n",
    "        y_list.append(y)\n",
    "        k_dot_list.append(k_dot)\n",
    "        \n",
    "    dic = {'saving rate':s_list, 'change in k':k_dot_list, 'capital per capita':k_list, 'output per capita':y_list}\n",
    "    df = pd.DataFrame(dic)\n",
    "    \n",
    "    return df       "
   ]
  },
  {
   "cell_type": "code",
   "execution_count": null,
   "metadata": {},
   "outputs": [],
   "source": [
    "k_star_old = steady_state(s)\n",
    "df = solow_model(k0=k_star_old, s_old=s, s_new=s1)\n",
    "df.plot(subplots=True, title=['Time path after a change in saving rate', '', '', ''])\n",
    "#plt.savefig(\"plot.png\")"
   ]
  }
 ],
 "metadata": {
  "kernelspec": {
   "display_name": "Python 3",
   "language": "python",
   "name": "python3"
  },
  "language_info": {
   "codemirror_mode": {
    "name": "ipython",
    "version": 3
   },
   "file_extension": ".py",
   "mimetype": "text/x-python",
   "name": "python",
   "nbconvert_exporter": "python",
   "pygments_lexer": "ipython3",
   "version": "3.10.8"
  }
 },
 "nbformat": 4,
 "nbformat_minor": 2
}
